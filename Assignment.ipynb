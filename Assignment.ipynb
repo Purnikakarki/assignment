{
 "cells": [
  {
   "cell_type": "markdown",
   "metadata": {},
   "source": [
    "SECTION 1: Conditional Statement."
   ]
  },
  {
   "cell_type": "code",
   "execution_count": 2,
   "metadata": {},
   "outputs": [
    {
     "name": "stdout",
     "output_type": "stream",
     "text": [
      "9 is odd number.\n"
     ]
    }
   ],
   "source": [
    "#1. WAP in python that ask user to enter a number and checks whether the number is even or odd.\n",
    "\n",
    "num=int(input(\"Enter a number:\"))\n",
    "if num%2==0: #statement to check if number is even or odd.\n",
    "    print(f\"{num}is even number.\")\n",
    "else:\n",
    "    print(f\"{num} is odd number.\")\n"
   ]
  },
  {
   "cell_type": "code",
   "execution_count": 7,
   "metadata": {},
   "outputs": [
    {
     "name": "stdout",
     "output_type": "stream",
     "text": [
      "5 is a positive number.\n"
     ]
    }
   ],
   "source": [
    "#2. WAP in python  that ask user to enter a number and check whether it is positive, negative or zero.\n",
    "\n",
    "num=int(input(\"Enter a number:\")) \n",
    "if num>0: # statement for positive.\n",
    "    print(f\"{num} is a positive number.\")\n",
    "elif num<0: # statement for negative.\n",
    "    print(f\"{num} is a negative number.\")\n",
    "else:\n",
    "    print(f\"{num} is zero.\")"
   ]
  },
  {
   "cell_type": "code",
   "execution_count": null,
   "metadata": {},
   "outputs": [
    {
     "name": "stdout",
     "output_type": "stream",
     "text": [
      "You are eligible to vote.\n"
     ]
    }
   ],
   "source": [
    "#3. WAP in python that asks user to enter their age and check if they are eligible to vote.\n",
    "\n",
    "age =int(input(\"Enter your age:\"))\n",
    "if age>18:\n",
    "    print(f\"You are eligible to vote.\")\n",
    "else:\n",
    "    print(f\"You are not eligible to vote.\")\n"
   ]
  },
  {
   "cell_type": "code",
   "execution_count": 17,
   "metadata": {},
   "outputs": [
    {
     "name": "stdout",
     "output_type": "stream",
     "text": [
      "It is a scalene triangle.\n"
     ]
    }
   ],
   "source": [
    "#4. WAP in python that takes the lengths of three sides of a triangle as input and determine if the triangle is:\n",
    "# Equilateral , isosceles or scalene.\n",
    "\n",
    "l1=float(input(\"Enter a length of first side of triangle:\"))\n",
    "l2=float(input(\"Enter a lenght of second side of triangle:\"))\n",
    "l3=float(input(\"Enter a length of third side of a triangle:\"))\n",
    "if l1==l2==l3:    # statement for equilateral.\n",
    "    print(\"It is an equilateral triangle.\")\n",
    "if l1==l2>l3 or l2==l3>l1 or l1==l3>l2:  #statement for isosceles.\n",
    "    print(\"It is isosceles triangle.\")\n",
    "if l1!=l2!=l3:  #statement for scalene.\n",
    "    print(\"It is a scalene triangle.\")\n",
    "\n"
   ]
  },
  {
   "cell_type": "code",
   "execution_count": null,
   "metadata": {},
   "outputs": [
    {
     "name": "stdout",
     "output_type": "stream",
     "text": [
      "You have logged in.\n"
     ]
    }
   ],
   "source": [
    "#5. WAP in python that asks user to enter password and check if it matches a predefined password (e.g.\"Python123\")\n",
    "\n",
    "predefined_password = \"Python123\"\n",
    "password=input(\"Enter a password:\")\n",
    "if password== predefined_password:   #statement to check password.\n",
    "    print(\"You have logged in.\")\n",
    "else:\n",
    "    print(\"Please enter a correct password.\")"
   ]
  },
  {
   "cell_type": "markdown",
   "metadata": {},
   "source": [
    " SECTION 2: For Loops"
   ]
  },
  {
   "cell_type": "code",
   "execution_count": 19,
   "metadata": {},
   "outputs": [
    {
     "name": "stdout",
     "output_type": "stream",
     "text": [
      "5*1 = 5\n",
      "5*2 = 10\n",
      "5*3 = 15\n",
      "5*4 = 20\n",
      "5*5 = 25\n",
      "5*6 = 30\n",
      "5*7 = 35\n",
      "5*8 = 40\n",
      "5*9 = 45\n",
      "5*10 = 50\n"
     ]
    }
   ],
   "source": [
    "#6. WAP in python to print the multiplication table of given number using for loop.\n",
    "\n",
    "num=5 #given number\n",
    "\n",
    "#Loop to print multiplication table:\n",
    "for i in range(1,11): #it means start from 1 and end at 10.\n",
    "    print(f\"{num}*{i} = {num*i}\")\n"
   ]
  },
  {
   "cell_type": "code",
   "execution_count": 20,
   "metadata": {},
   "outputs": [
    {
     "name": "stdout",
     "output_type": "stream",
     "text": [
      "Number of vowels in the string is 3\n"
     ]
    }
   ],
   "source": [
    "#7.Count vowels: WAP in python to count and display the number of vowels in a given string.\n",
    "\n",
    "input_string = input(\"Enter a string:\")\n",
    "\n",
    "#Vowels to check for\n",
    "vowels= \"aeiouAEIOU\"\n",
    "\n",
    "count=0 # variable to store the count of vowels.\n",
    "\n",
    "for char in input_string:   #for loop\n",
    "    if char in vowels:      # if statement to check vowels \n",
    "        count +=1           # if there are vowels then to count them.\n",
    "print(f\"Number of vowels in the string is {count}\")\n",
    "\n",
    "#checked for \"Purnika\" it showed 3."
   ]
  },
  {
   "cell_type": "code",
   "execution_count": 4,
   "metadata": {},
   "outputs": [
    {
     "name": "stdout",
     "output_type": "stream",
     "text": [
      "The sum of all even numbers is: 246\n"
     ]
    }
   ],
   "source": [
    "#8. Sum of even numbers: Create a program to find sum of all even numbers in a list using for loop.\n",
    "\n",
    "numbers=[1,2,5,6,8,9,22,56,79,70,82]\n",
    "sum=0 #intialize sum of even number to zero.\n",
    "for num in numbers: \n",
    "    if num%2==0:\n",
    "        sum+=num\n",
    "print(f\"The sum of all even numbers is:\",sum)"
   ]
  },
  {
   "cell_type": "code",
   "execution_count": 1,
   "metadata": {},
   "outputs": [
    {
     "name": "stdout",
     "output_type": "stream",
     "text": [
      "List of numbers: [20, 30, 50, 76, 90, 55, 34]\n",
      "Largest number is: 90\n",
      "Smallest number is: 20\n"
     ]
    }
   ],
   "source": [
    "#9. Create a program to find the largest and smallest numbers in a list using a for loop.\n",
    "\n",
    "def largest_and_smallest(numbers):\n",
    "    largest=numbers[0]\n",
    "    smallest=numbers[0]\n",
    "    for num in numbers:\n",
    "        if num>largest:\n",
    "            largest=num\n",
    "        if num<smallest:\n",
    "            smallest =num\n",
    "    return largest,smallest\n",
    "\n",
    "numbers=[20,30,50,76,90,55,34] #predefined list\n",
    "largest,smallest= largest_and_smallest(numbers)  \n",
    "#Output the list\n",
    "print(\"List of numbers:\",numbers)\n",
    "print(\"Largest number is:\",largest)\n",
    "print(\"Smallest number is:\",smallest)\n",
    "\n",
    "\n",
    "\n"
   ]
  },
  {
   "cell_type": "code",
   "execution_count": 10,
   "metadata": {},
   "outputs": [
    {
     "name": "stdout",
     "output_type": "stream",
     "text": [
      "The sum of the digit of 1234 is :10\n"
     ]
    }
   ],
   "source": [
    "#10. Write a program in python to calculate the sum of digits of given number using a for loop.\n",
    "\n",
    "number=int(input(\"Enter numbers\"))\n",
    "total=0 #initializing the number.\n",
    "for digit in str(number): #Converting number into a string.\n",
    "    total+=int(digit) #Converting character back to integer.\n",
    "print(f\"The sum of the digit of {number} is :{total}\")\n"
   ]
  },
  {
   "cell_type": "code",
   "execution_count": 11,
   "metadata": {},
   "outputs": [
    {
     "name": "stdout",
     "output_type": "stream",
     "text": [
      "The reversed string of 'python' is: 'nohtyp'\n"
     ]
    }
   ],
   "source": [
    "#11. Write a program in python to reserve a given string using for loop.\n",
    "\n",
    "input_string = \"python\"\n",
    "\n",
    "# Initializing an empty string for the reversed result.\n",
    "reversed_string = \"\"\n",
    "\n",
    "for char in input_string:\n",
    "    reversed_string = char + reversed_string  # Adding each character at the beginning\n",
    "\n",
    "print(f\"The reversed string of '{input_string}' is: '{reversed_string}'\")"
   ]
  },
  {
   "cell_type": "code",
   "execution_count": null,
   "metadata": {},
   "outputs": [],
   "source": [
    "Section 3: Functions"
   ]
  },
  {
   "cell_type": "code",
   "execution_count": 1,
   "metadata": {},
   "outputs": [
    {
     "name": "stdout",
     "output_type": "stream",
     "text": [
      "The factorial of 5 is 120\n"
     ]
    }
   ],
   "source": [
    "#12. Write a function factorial(n) that returns the factorial of a number using for loop.\n",
    "\n",
    "def factorial(n):\n",
    "    result =1\n",
    "    for i in range(1,n+1):\n",
    "        result*=i\n",
    "    return result\n",
    "number=int(input(\"Enter a number\"))\n",
    "print(f\"The factorial of {number} is {factorial(number)}\")\n",
    "\n"
   ]
  },
  {
   "cell_type": "code",
   "execution_count": 3,
   "metadata": {},
   "outputs": [
    {
     "name": "stdout",
     "output_type": "stream",
     "text": [
      "7 is a prime number.\n"
     ]
    }
   ],
   "source": [
    "#13. Prime Check Function: Create a function is_prime(n) to check whether a number is prime.\n",
    "\n",
    "def function_is_prime(n):\n",
    "    if n<=1:\n",
    "        return False\n",
    "    for i in range(2,int(n**0.5)+1):\n",
    "        if n%i == 0:\n",
    "            return False\n",
    "    return True\n",
    "num=int(input(\"Enter a number:\"))\n",
    "if function_is_prime(num):\n",
    "    print(f\"{num} is a prime number.\")\n",
    "else:\n",
    "    print(f\"{num} is not a prime number.\")"
   ]
  },
  {
   "cell_type": "code",
   "execution_count": 4,
   "metadata": {},
   "outputs": [
    {
     "name": "stdout",
     "output_type": "stream",
     "text": [
      "The maximum value is: 9\n"
     ]
    }
   ],
   "source": [
    "#14. Find maxmimum in List: Write a function find_max(list) to find and return the maximum value.\n",
    "\n",
    "def find_max(list):\n",
    "    if not list:  # Check if the list is empty\n",
    "        return None  #return empty list.\n",
    "    \n",
    "    max_value = list[0]  # Assuming the first element is the maximum.\n",
    "    for num in list:  \n",
    "        if num > max_value:  \n",
    "            max_value = num  # Update the maximum value\n",
    "    return max_value  # Return the maximum value\n",
    "\n",
    "# Testing the function\n",
    "numbers = [1, 5, 8, 9, 5]\n",
    "max_value = find_max(numbers)\n",
    "print(\"The maximum value is:\", max_value)"
   ]
  },
  {
   "cell_type": "code",
   "execution_count": 9,
   "metadata": {},
   "outputs": [
    {
     "name": "stdout",
     "output_type": "stream",
     "text": [
      "True\n"
     ]
    }
   ],
   "source": [
    "#15. Write a function palindrome_check(string) that returns True if the given string is palindrome, otherwise False.\n",
    "\n",
    "def palindrome_check(string):\n",
    "     cleaned_string = string.lower() #converted string to lower case\n",
    "     return cleaned_string == cleaned_string[::-1] #comparing string with reverse\n",
    "result = palindrome_check(\"mom\")\n",
    "print(result) "
   ]
  },
  {
   "cell_type": "code",
   "execution_count": 5,
   "metadata": {},
   "outputs": [
    {
     "name": "stdout",
     "output_type": "stream",
     "text": [
      "Sum of squares (Iterative): 14\n"
     ]
    }
   ],
   "source": [
    "#16. Write a function sum_of_squares(n) that returns the sum of square of first n natural number.\n",
    "\n",
    "def sum_of_squares(n):\n",
    "    total = 0\n",
    "    # Loop through the first n natural numbers\n",
    "    for i in range(1, n + 1):\n",
    "        total += i ** 2  # Adding the square of the current number to the total\n",
    "    return total\n",
    "\n",
    "n = 3\n",
    "print(\"Sum of squares (Iterative):\", sum_of_squares(n))\n",
    "    "
   ]
  },
  {
   "cell_type": "markdown",
   "metadata": {},
   "source": [
    "SECTION 4: Classes:"
   ]
  },
  {
   "cell_type": "code",
   "execution_count": null,
   "metadata": {},
   "outputs": [
    {
     "name": "stdout",
     "output_type": "stream",
     "text": [
      "Area of the rectangle:50\n",
      "Perimeter of the rectangle:30\n"
     ]
    }
   ],
   "source": [
    "#17. Rectangle class : Define a class rectangle with: two attribute length and width. A method area() to calculate area and\n",
    "# A menthod perimeter() to calculate the perimeter.\n",
    "\n",
    "class rectangle:\n",
    "    def __init__(self,length,width):\n",
    "        self.length=length\n",
    "        self.width=width\n",
    "    def area(self):\n",
    "        return self.length*self.width #to calculate area length*width\n",
    "    def perimeter(self):\n",
    "        return 2*(self.length+self.width) #to calculate perimeter 2*(l+w)\n",
    "    \n",
    "length=int(input(\"Enter a length\"))\n",
    "width=int(input(\"Enter a width\"))\n",
    "rect=rectangle (length,width)  #creating object\n",
    "\n",
    "print(f\"Area of the rectangle:{rect.area()}\")\n",
    "print(f\"Perimeter of the rectangle:{rect.perimeter()}\")\n",
    "\n",
    "#Output:\n",
    "length=10\n",
    "width=5\n"
   ]
  },
  {
   "cell_type": "code",
   "execution_count": 10,
   "metadata": {},
   "outputs": [
    {
     "name": "stdout",
     "output_type": "stream",
     "text": [
      "You are pass.\n"
     ]
    }
   ],
   "source": [
    "#18. Student Class: Create a class Student with: Attribute:name, roll_no, and marks.\n",
    "#A method display_details() to print the student's details.\n",
    "#A method is_passed() that returns True if marks>=40, else false.\n",
    "\n",
    "class student:\n",
    "    def __init__(self,name,roll_no,marks):\n",
    "        self.name=name\n",
    "        self.roll_no=roll_no\n",
    "        self.marks=marks\n",
    "    \n",
    "    def display_details(self):\n",
    "        print(f\"Name is {self.name}\")\n",
    "        print(f\"roll_no is: {self.roll_no}\")\n",
    "        print(f\"Marks is:{self.marks}\")\n",
    "\n",
    "    def is_passed(self):\n",
    "        return self.marks>=40  #to check if the condition is matches or not.\n",
    "\n",
    "student=student(\"Purnika\",101,98)\n",
    "student.display_details \n",
    "if student.is_passed():\n",
    "    print(f\"You are pass.\")\n",
    "else:\n",
    "    print(f\"You are fail\")\n",
    "\n",
    "    "
   ]
  },
  {
   "cell_type": "code",
   "execution_count": 11,
   "metadata": {},
   "outputs": [
    {
     "name": "stdout",
     "output_type": "stream",
     "text": [
      "Radius of the circle:5\n",
      "Area of the circle:78.539816\n",
      "Circumference of the circle:31.415927\n"
     ]
    }
   ],
   "source": [
    "#19. Define a circle with: Attribute: radius\n",
    "#:Method: area() to calculate the area, circumference.\n",
    "\n",
    "import math\n",
    "class circle:\n",
    "    def __init__(self,radius):\n",
    "        self.radius=radius\n",
    "\n",
    "    def area(self):\n",
    "        return math.pi*(self.radius**2) #to calculate area of circle.\n",
    "    \n",
    "    def circumference(self):\n",
    "        return 2*math.pi*self.radius #to calculate circumference of circle.\n",
    "    \n",
    "radius = 5\n",
    "circle=circle(radius)\n",
    "\n",
    "print(f\"Radius of the circle:{circle.radius}\")\n",
    "print(f\"Area of the circle:{circle.area():2f}\")\n",
    "print(f\"Circumference of the circle:{circle.circumference():2f}\")\n",
    "\n",
    "\n",
    "    "
   ]
  },
  {
   "cell_type": "code",
   "execution_count": 13,
   "metadata": {},
   "outputs": [
    {
     "name": "stdout",
     "output_type": "stream",
     "text": [
      "Current balance: 1000\n",
      "Deposited 500. New balance: 1500\n",
      "Withdrew 300. New balance: 1200\n",
      "Current balance: 1200\n"
     ]
    }
   ],
   "source": [
    "#20.Create a BankAccount with: Attributes:account_number, account_holder,balance.\n",
    "# Methods: deposit(amount) to add money to the account.\n",
    "# withdraw(amount) to subtract money(if sufficient balance is available)\n",
    "# display_balance() to print the current balance.\n",
    "\n",
    "class BankAccount:\n",
    "    def __init__(self, account_number, account_holder, balance=0):\n",
    "        self.account_number = account_number\n",
    "        self.account_holder = account_holder\n",
    "        self.balance = balance\n",
    "\n",
    "    def deposit(self, amount):\n",
    "        if amount > 0:\n",
    "            self.balance += amount\n",
    "            print(f\"Deposited {amount}. New balance: {self.balance}\")\n",
    "        else:\n",
    "            print(\"Deposit amount must be greater than zero.\")\n",
    "\n",
    "    def withdraw(self, amount):\n",
    "        if amount > self.balance:\n",
    "            print(\"Insufficient balance for this withdrawal.\")\n",
    "        elif amount <= 0:\n",
    "            print(\"Withdrawal amount must be greater than zero.\")\n",
    "        else:\n",
    "            self.balance -= amount\n",
    "            print(f\"Withdrew {amount}. New balance: {self.balance}\")\n",
    "\n",
    "    def display_balance(self):\n",
    "            print(f\"Current balance: {self.balance}\")\n",
    "\n",
    "account = BankAccount(\"123456789\", \"John Doe\", 1000)\n",
    "account.display_balance()\n",
    "account.deposit(500)\n",
    "account.withdraw(300)\n",
    "account.display_balance()\n",
    "\n"
   ]
  },
  {
   "cell_type": "code",
   "execution_count": 14,
   "metadata": {},
   "outputs": [
    {
     "name": "stdout",
     "output_type": "stream",
     "text": [
      "Title: The Great Gatsby\n",
      "Author: F. Scott Fitzgerald\n",
      "Price: $200.00\n",
      "Discount of 10% applied. New price: 180.00\n",
      "Title: The Great Gatsby\n",
      "Author: F. Scott Fitzgerald\n",
      "Price: $180.00\n",
      "Discount must be between 0 and 100.\n"
     ]
    }
   ],
   "source": [
    "# 21. A class Book with: Attributes: title, author, price. \n",
    "# Methods:  apply_discount(discount) to reduce the price by a given percentage. \n",
    "# display_details() to print the book details. \n",
    "\n",
    "class Book:\n",
    "    def __init__(self, title, author, price):\n",
    "        self.title = title\n",
    "        self.author = author\n",
    "        self.price = price\n",
    "\n",
    "    def apply_discount(self, discount):\n",
    "        if 0 <= discount <= 100:\n",
    "            self.price -= self.price * (discount / 100)\n",
    "            print(f\"Discount of {discount}% applied. New price: {self.price:.2f}\")\n",
    "        else:\n",
    "            print(\"Discount must be between 0 and 100.\")\n",
    "\n",
    "    def display_details(self):\n",
    "        print(f\"Title: {self.title}\")\n",
    "        print(f\"Author: {self.author}\")\n",
    "        print(f\"Price: ${self.price:.2f}\")\n",
    "\n",
    "book = Book(\"The Great Gatsby\", \"F. Scott Fitzgerald\", 200.00)\n",
    "book.display_details() #display initial book details.\n",
    "book.apply_discount(10) #Apply a discount\n",
    "book.display_details() #Display book details after discount\n",
    "book.apply_discount(120)"
   ]
  },
  {
   "cell_type": "code",
   "execution_count": 16,
   "metadata": {},
   "outputs": [
    {
     "name": "stdout",
     "output_type": "stream",
     "text": [
      "Addition (7 + 5): 8\n",
      "Subtraction (7 - 5): 2\n",
      "Multiplication (7 * 5): 15\n",
      "Division (7 / 5): 1.6666666666666667\n",
      "Division (7 / 0): Error: Division by zero is not allowed.\n"
     ]
    }
   ],
   "source": [
    "#22. . Create a class Calculator with: A method add(a, b) to add two numbers. \n",
    "# A method subtract(a, b) to subtract two numbers. \n",
    "# A method multiply(a, b) to multiply two numbers. \n",
    "# A method divide(a, b) to divide two numbers (handle division by zero gracefully). \n",
    "\n",
    "class Calculator:\n",
    "\n",
    "    def add(self, a, b):\n",
    "        return a + b\n",
    "\n",
    "    def subtract(self, a, b):\n",
    "        return a - b\n",
    "\n",
    "    def multiply(self, a, b):\n",
    "        return a * b\n",
    "\n",
    "    def divide(self, a, b):\n",
    "        if b == 0:\n",
    "            return \"Error: Division by zero is not allowed.\"\n",
    "        return a / b\n",
    "    \n",
    "calc = Calculator()\n",
    "\n",
    "print(\"Addition (7 + 5):\", calc.add(5, 3))\n",
    "print(\"Subtraction (7 - 5):\", calc.subtract(5, 3))\n",
    "print(\"Multiplication (7 * 5):\", calc.multiply(5, 3))\n",
    "print(\"Division (7 / 5):\", calc.divide(5, 3))\n",
    "print(\"Division (7 / 0):\", calc.divide(5, 0))"
   ]
  },
  {
   "cell_type": "code",
   "execution_count": 17,
   "metadata": {},
   "outputs": [
    {
     "name": "stdout",
     "output_type": "stream",
     "text": [
      "Hello, my name is Sofie, I am 25 years old, and I am a female.\n",
      "Hello, my name is Bobby, I am 40 years old, I am a male, and I work as a Software Engineer.\n"
     ]
    }
   ],
   "source": [
    "#23. Write a class Person with:  Attributes: name, age, gender. \n",
    "#Method introduce() to print a message like: \"Hello, my name is [name], I am [age] years old, \n",
    "# and I am a [gender].\" ○ Create a subclass Employee that adds: \n",
    "# Attribute: job_title. # Override introduce() to include the job title.\n",
    "\n",
    "class Person:\n",
    "    def __init__(self,name,age,gender):\n",
    "        self.name=name\n",
    "        self.age=age\n",
    "        self.gender=gender\n",
    "    \n",
    "    def introduce(self):\n",
    "        print(f\"Hello, my name is {self.name}, I am {self.age} years old, and I am a {self.gender}.\")\n",
    "\n",
    "class Employee(Person):\n",
    "    def __init__(self, name, age, gender, job_title):\n",
    "        super().__init__(name, age, gender)\n",
    "        self.job_title = job_title\n",
    "\n",
    "    def introduce(self):\n",
    "        print(f\"Hello, my name is {self.name}, I am {self.age} years old, I am a {self.gender}, and I work as a {self.job_title}.\")\n",
    "\n",
    "# Example usage\n",
    "person = Person(\"Sofie\", 25, \"female\")\n",
    "person.introduce()\n",
    "\n",
    "employee = Employee(\"Bobby\", 40, \"male\", \"Software Engineer\")\n",
    "employee.introduce()"
   ]
  },
  {
   "cell_type": "code",
   "execution_count": null,
   "metadata": {},
   "outputs": [],
   "source": [
    "SECTION 5: File Handling"
   ]
  },
  {
   "cell_type": "code",
   "execution_count": 1,
   "metadata": {},
   "outputs": [
    {
     "name": "stdout",
     "output_type": "stream",
     "text": [
      "Contents of data.txt:\n",
      "1\n",
      "2\n",
      "3\n",
      "4\n",
      "5\n",
      "6\n",
      "7\n",
      "8\n",
      "9\n",
      "10\n",
      "\n"
     ]
    }
   ],
   "source": [
    "#24. File Creation and Writing: Write a Python script to:  Create a file named data.txt. \n",
    "# Write the numbers from 1 to 10 (each on a new line) to the file. \n",
    "# Read the file and print its contents.\n",
    "\n",
    "# Creating and writing to the file\n",
    "with open('data.txt', 'w') as file:\n",
    "    for number in range(1, 11):\n",
    "        file.write(f\"{number}\\n\")\n",
    "\n",
    "# Reading the file and printing its contents\n",
    "with open('data.txt', 'r') as file:\n",
    "    contents = file.read()\n",
    "    print(\"Contents of data.txt:\")\n",
    "    print(contents)"
   ]
  },
  {
   "cell_type": "code",
   "execution_count": 2,
   "metadata": {},
   "outputs": [
    {
     "name": "stdout",
     "output_type": "stream",
     "text": [
      "Error: The file 'sample.txt' was not found.\n"
     ]
    }
   ],
   "source": [
    "#25.  Word Count in File: Write a program that reads a file named sample.txt, counts the number of words in it, and prints the result. \n",
    "\n",
    "try:\n",
    "    # Open the file in read mode\n",
    "    with open('sample.txt', 'r') as file:\n",
    "        # Read the file's contents\n",
    "        contents = file.read()\n",
    "        # Split the contents into words\n",
    "        words = contents.split()\n",
    "        # Count the number of words\n",
    "        word_count = len(words)\n",
    "        # Print the result\n",
    "        print(f\"The number of words in 'sample.txt' is: {word_count}\")\n",
    "except FileNotFoundError:\n",
    "    print(\"Error: The file 'sample.txt' was not found.\")\n",
    "except Exception as e:\n",
    "    print(f\"An error occurred: {e}\")"
   ]
  },
  {
   "cell_type": "markdown",
   "metadata": {},
   "source": [
    "SECTION:6 Error Handling"
   ]
  },
  {
   "cell_type": "code",
   "execution_count": 5,
   "metadata": {},
   "outputs": [
    {
     "name": "stdout",
     "output_type": "stream",
     "text": [
      "Error: Please enter valid numeric inputs.\n"
     ]
    }
   ],
   "source": [
    "#26  Division with Error Handling: Write a program that takes two numbers as input and divides the first number by the second. \n",
    "# Use try and except to handle the division by zero error. \n",
    "\n",
    "try:\n",
    "    numerator = float(input(\"Enter the numerator: \"))\n",
    "    denominator = float(input(\"Enter the denominator: \"))\n",
    "    \n",
    "    result = numerator / denominator\n",
    "\n",
    "    # Printing the result\n",
    "    print(f\"The result of dividing {numerator} by {denominator} is: {result}\")\n",
    "\n",
    "except ZeroDivisionError:\n",
    "    print(\"Error: Division by zero is not allowed.\")\n",
    "except ValueError:\n",
    "    print(\"Error: Please enter valid numeric inputs.\")\n",
    "except Exception as e:\n",
    "    print(f\"An unexpected error occurred: {e}\")"
   ]
  },
  {
   "cell_type": "code",
   "execution_count": 4,
   "metadata": {},
   "outputs": [
    {
     "name": "stdout",
     "output_type": "stream",
     "text": [
      "Invalid input, please enter an integer.\n"
     ]
    }
   ],
   "source": [
    "#27. 2. Integer Input Validation: Create a program that asks the user to input an integer. \n",
    "#Use try, except, and else to handle invalid input. Example: \n",
    "# Input: abc  Output: \"Invalid input, please enter an integer.\"\n",
    "\n",
    "try:\n",
    "    # Ask the user to input an integer\n",
    "    user_input = input(\"Enter an integer: \")\n",
    "    # Convert the input to an integer\n",
    "    number = int(user_input)\n",
    "except ValueError:\n",
    "    # Handle invalid input\n",
    "    print(\"Invalid input, please enter an integer.\")\n",
    "else:\n",
    "    # If no error occurs, print the valid integer\n",
    "    print(f\"You entered the integer: {number}\")"
   ]
  },
  {
   "cell_type": "code",
   "execution_count": 6,
   "metadata": {},
   "outputs": [
    {
     "name": "stdout",
     "output_type": "stream",
     "text": [
      "Error: The file 'unknown.txt' was not found.\n"
     ]
    }
   ],
   "source": [
    "#28. . File Not Found Error Handling: Write a script that: Opens a file named unknown.txt. \n",
    "# Handles the FileNotFoundError gracefully and prints an appropriate message. \n",
    "\n",
    "try:\n",
    "    # Attempt to open the file\n",
    "    with open('unknown.txt', 'r') as file:\n",
    "        contents = file.read()\n",
    "        print(\"File contents:\")\n",
    "        print(contents)\n",
    "except FileNotFoundError:\n",
    "    # Handle the case where the file does not exist\n",
    "    print(\"Error: The file 'unknown.txt' was not found.\")\n",
    "except Exception as e:\n",
    "    # Handle any other unexpected errors\n",
    "    print(f\"An unexpected error occurred: {e}\")"
   ]
  },
  {
   "cell_type": "code",
   "execution_count": null,
   "metadata": {},
   "outputs": [],
   "source": []
  }
 ],
 "metadata": {
  "kernelspec": {
   "display_name": "Python 3",
   "language": "python",
   "name": "python3"
  },
  "language_info": {
   "codemirror_mode": {
    "name": "ipython",
    "version": 3
   },
   "file_extension": ".py",
   "mimetype": "text/x-python",
   "name": "python",
   "nbconvert_exporter": "python",
   "pygments_lexer": "ipython3",
   "version": "3.13.0"
  }
 },
 "nbformat": 4,
 "nbformat_minor": 2
}
